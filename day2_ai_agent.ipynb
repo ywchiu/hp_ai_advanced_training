{
  "nbformat": 4,
  "nbformat_minor": 0,
  "metadata": {
    "colab": {
      "provenance": []
    },
    "kernelspec": {
      "name": "python3",
      "display_name": "Python 3"
    },
    "language_info": {
      "name": "python"
    }
  },
  "cells": [
    {
      "cell_type": "markdown",
      "source": [
        "[![](https://mermaid.ink/img/pako:eNptkc1Kw0AYRV9lmHX6AlkIbdPWjStdOcliaKZNoPkhThaSFEqlJdhNQF2IEolQUYTiX6WCxZdxkvEtTJNaIzirOd89DMN3Pdi2VAJF2HWwrYE9STZBdqroc_mRnt7ywYi_L9hoqoBKZQvUULpYprM4Dceg2iUmVQq9lqd1jwXjJAr5_SR5HH7FEYsm_UKorwSfD2N29JZcTfndtQ8kVGb2ELDZq1LWk-MBj0-KN33QQGX-R-dPMZuc_-hNVOY_upT_toWSsxcWBuk8TKLLddQoogKaZWjlsI3YRcSGz-n8ZrMgBQrQII6BdTXbo7fSZUg1YhAZitlVJR3s9qgMZbOfqdil1u6h2YYidVwiQNdWMSWSjrMGDCh2cO9gM22oOrWczdDG5r5l_Uokj3eKAvMeBehYbldbG_1vkoHPkw?type=png)](https://mermaid.live/edit#pako:eNptkc1Kw0AYRV9lmHX6AlkIbdPWjStdOcliaKZNoPkhThaSFEqlJdhNQF2IEolQUYTiX6WCxZdxkvEtTJNaIzirOd89DMN3Pdi2VAJF2HWwrYE9STZBdqroc_mRnt7ywYi_L9hoqoBKZQvUULpYprM4Dceg2iUmVQq9lqd1jwXjJAr5_SR5HH7FEYsm_UKorwSfD2N29JZcTfndtQ8kVGb2ELDZq1LWk-MBj0-KN33QQGX-R-dPMZuc_-hNVOY_upT_toWSsxcWBuk8TKLLddQoogKaZWjlsI3YRcSGz-n8ZrMgBQrQII6BdTXbo7fSZUg1YhAZitlVJR3s9qgMZbOfqdil1u6h2YYidVwiQNdWMSWSjrMGDCh2cO9gM22oOrWczdDG5r5l_Uokj3eKAvMeBehYbldbG_1vkoHPkw)"
      ],
      "metadata": {
        "id": "tF3gHmNoL9Pe"
      }
    },
    {
      "cell_type": "code",
      "source": [
        "%%capture\n",
        "! pip install git+https://github.com/openai/swarm.git\n",
        "! pip install pandas_ta"
      ],
      "metadata": {
        "id": "wBEMitvpHhkr"
      },
      "execution_count": null,
      "outputs": []
    },
    {
      "cell_type": "code",
      "execution_count": null,
      "metadata": {
        "id": "xo7rWj4UHMB-"
      },
      "outputs": [],
      "source": [
        "import yfinance as yf\n",
        "from swarm import Swarm, Agent\n",
        "import pandas_ta as ta\n",
        "import pandas as pd\n",
        "import os"
      ]
    },
    {
      "cell_type": "code",
      "source": [
        "from google.colab import userdata\n",
        "os.environ[\"OPENAI_API_KEY\"] = userdata.get('OPENAI_API_KEY')"
      ],
      "metadata": {
        "id": "rX83JokTIZUS"
      },
      "execution_count": null,
      "outputs": []
    },
    {
      "cell_type": "code",
      "source": [
        "# 股價走勢查詢函數\n",
        "def get_stock_price_history(symbol, period = \"1mo\"):\n",
        "    try:\n",
        "        stock = yf.Ticker(symbol)\n",
        "        history = stock.history(period=period)\n",
        "        return history.tail().to_dict('records')\n",
        "    except:\n",
        "        return f\"無法獲取 {symbol} 的歷史價格\""
      ],
      "metadata": {
        "id": "i9sx9IOpHYMR"
      },
      "execution_count": null,
      "outputs": []
    },
    {
      "cell_type": "code",
      "source": [
        "get_stock_price_history('2330.TW')"
      ],
      "metadata": {
        "colab": {
          "base_uri": "https://localhost:8080/"
        },
        "collapsed": true,
        "id": "6iX-5dj1RmXb",
        "outputId": "0cb5f0fc-1c0b-4495-836a-441b3baecc01"
      },
      "execution_count": null,
      "outputs": [
        {
          "output_type": "execute_result",
          "data": {
            "text/plain": [
              "[{'Open': 1100.0,\n",
              "  'High': 1125.0,\n",
              "  'Low': 1095.0,\n",
              "  'Close': 1125.0,\n",
              "  'Volume': 69289786,\n",
              "  'Dividends': 0.0,\n",
              "  'Stock Splits': 0.0},\n",
              " {'Open': 1150.0,\n",
              "  'High': 1160.0,\n",
              "  'Low': 1130.0,\n",
              "  'Close': 1130.0,\n",
              "  'Volume': 48758688,\n",
              "  'Dividends': 0.0,\n",
              "  'Stock Splits': 0.0},\n",
              " {'Open': 1110.0,\n",
              "  'High': 1130.0,\n",
              "  'Low': 1105.0,\n",
              "  'Close': 1105.0,\n",
              "  'Volume': 45211419,\n",
              "  'Dividends': 0.0,\n",
              "  'Stock Splits': 0.0},\n",
              " {'Open': 1100.0,\n",
              "  'High': 1115.0,\n",
              "  'Low': 1100.0,\n",
              "  'Close': 1100.0,\n",
              "  'Volume': 27263215,\n",
              "  'Dividends': 0.0,\n",
              "  'Stock Splits': 0.0},\n",
              " {'Open': 1100.0,\n",
              "  'High': 1110.0,\n",
              "  'Low': 1100.0,\n",
              "  'Close': 1100.0,\n",
              "  'Volume': 22021522,\n",
              "  'Dividends': 0.0,\n",
              "  'Stock Splits': 0.0}]"
            ]
          },
          "metadata": {},
          "execution_count": 31
        }
      ]
    },
    {
      "cell_type": "code",
      "source": [
        "# 股票資訊查詢函數\n",
        "def get_stock_info(symbol):\n",
        "    try:\n",
        "        stock = yf.Ticker(symbol)\n",
        "        info = stock.info\n",
        "        return {\n",
        "            '公司名稱': info.get('longName', 'N/A'),\n",
        "            '現價': info.get('currentPrice', 'N/A'),\n",
        "            '市值': info.get('marketCap', 'N/A'),\n",
        "            '產業': info.get('industry', 'N/A'),\n",
        "            '52週高點': info.get('fiftyTwoWeekHigh', 'N/A'),\n",
        "            '52週低點': info.get('fiftyTwoWeekLow', 'N/A')\n",
        "        }\n",
        "    except:\n",
        "        return f\"無法獲取 {symbol} 的資訊\""
      ],
      "metadata": {
        "id": "nLiHIs10HXV5"
      },
      "execution_count": null,
      "outputs": []
    },
    {
      "cell_type": "code",
      "source": [
        "get_stock_info('2330.TW')"
      ],
      "metadata": {
        "colab": {
          "base_uri": "https://localhost:8080/"
        },
        "id": "TsgO7ThxRvZ8",
        "outputId": "e8130104-5d5c-4686-f172-caba988f894d"
      },
      "execution_count": null,
      "outputs": [
        {
          "output_type": "execute_result",
          "data": {
            "text/plain": [
              "{'公司名稱': 'Taiwan Semiconductor Manufacturing Company Limited',\n",
              " '現價': 1100.0,\n",
              " '市值': 28525969014784,\n",
              " '產業': 'Semiconductors',\n",
              " '52週高點': 1160.0,\n",
              " '52週低點': 578.0}"
            ]
          },
          "metadata": {},
          "execution_count": 33
        }
      ]
    },
    {
      "cell_type": "code",
      "source": [
        "# 基本財務數據查詢函數\n",
        "def get_financial_data(symbol):\n",
        "    try:\n",
        "        stock = yf.Ticker(symbol)\n",
        "        # 獲取最近的財務報表\n",
        "        financials = stock.financials.iloc[:, 0]\n",
        "        balance_sheet = stock.balance_sheet.iloc[:, 0]\n",
        "        return {\n",
        "            '營收': financials.get('Total Revenue', 'N/A'),\n",
        "            '淨利': financials.get('Net Income', 'N/A'),\n",
        "            '總資產': balance_sheet.get('Total Assets', 'N/A'),\n",
        "            '總負債': balance_sheet.get('Total Liabilities Net Minority Interest', 'N/A'),\n",
        "            'ROE': stock.info.get('returnOnEquity', 'N/A'),\n",
        "            '本益比': stock.info.get('trailingPE', 'N/A')\n",
        "        }\n",
        "    except:\n",
        "        return f\"無法獲取 {symbol} 的財務數據\""
      ],
      "metadata": {
        "id": "LoDxsIejH-m2"
      },
      "execution_count": null,
      "outputs": []
    },
    {
      "cell_type": "code",
      "source": [
        "get_financial_data('2330.TW')"
      ],
      "metadata": {
        "colab": {
          "base_uri": "https://localhost:8080/"
        },
        "id": "h30PkxbFR3M5",
        "outputId": "4e62b49c-2cab-4013-ca83-000a33e5275d"
      },
      "execution_count": null,
      "outputs": [
        {
          "output_type": "execute_result",
          "data": {
            "text/plain": [
              "{'營收': 2161735800000.0,\n",
              " '淨利': 851740000000.0,\n",
              " '總資產': 5532196600000.0,\n",
              " '總負債': 2078330100000.0,\n",
              " 'ROE': 0.28027,\n",
              " '本益比': 27.173914}"
            ]
          },
          "metadata": {},
          "execution_count": 34
        }
      ]
    },
    {
      "cell_type": "code",
      "source": [
        "# 技術分析函數\n",
        "def get_technical_analysis(symbol, period= \"6mo\"):\n",
        "    try:\n",
        "        # 獲取歷史數據\n",
        "        stock = yf.Ticker(symbol)\n",
        "        df = stock.history(period=period)\n",
        "\n",
        "        # 計算技術指標\n",
        "        # RSI\n",
        "        df['RSI'] = ta.rsi(df['Close'], length=14)\n",
        "\n",
        "        # MACD\n",
        "        macd = ta.macd(df['Close'])\n",
        "        df = pd.concat([df, macd], axis=1)\n",
        "\n",
        "        # 移動平均線\n",
        "        df['SMA_20'] = ta.sma(df['Close'], length=20)\n",
        "        df['SMA_60'] = ta.sma(df['Close'], length=60)\n",
        "\n",
        "        # KD指標\n",
        "        stoch = ta.stoch(df['High'], df['Low'], df['Close'])\n",
        "        df = pd.concat([df, stoch], axis=1)\n",
        "\n",
        "        # 取最新的技術指標數據\n",
        "        latest = df.iloc[-1]\n",
        "\n",
        "        analysis_result = {\n",
        "            'RSI': round(latest['RSI'], 2),\n",
        "            'MACD': round(latest['MACD_12_26_9'], 2),\n",
        "            'MACD_Signal': round(latest['MACDs_12_26_9'], 2),\n",
        "            'SMA_20': round(latest['SMA_20'], 2),\n",
        "            'SMA_60': round(latest['SMA_60'], 2),\n",
        "            'K值': round(latest['STOCHk_14_3_3'], 2),\n",
        "            'D值': round(latest['STOCHd_14_3_3'], 2),\n",
        "            '收盤價': round(latest['Close'], 2)\n",
        "        }\n",
        "\n",
        "        # 產生技術分析信號\n",
        "        signals = generate_trading_signals(analysis_result)\n",
        "\n",
        "        return {\n",
        "            'indicators': analysis_result,\n",
        "            'signals': signals,\n",
        "            'historical_data': df.tail().to_dict('records')\n",
        "        }\n",
        "\n",
        "    except Exception as e:\n",
        "        return f\"無法進行技術分析: {str(e)}\""
      ],
      "metadata": {
        "id": "YQyKmSOrIAw_"
      },
      "execution_count": null,
      "outputs": []
    },
    {
      "cell_type": "code",
      "source": [
        "def generate_trading_signals(data):\n",
        "    signals = []\n",
        "\n",
        "    # RSI 分析\n",
        "    if data['RSI'] > 70:\n",
        "        signals.append(\"RSI 顯示超買情況\")\n",
        "    elif data['RSI'] < 30:\n",
        "        signals.append(\"RSI 顯示超賣情況\")\n",
        "\n",
        "    # MACD 分析\n",
        "    if data['MACD'] > data['MACD_Signal']:\n",
        "        signals.append(\"MACD 形成黃金交叉\")\n",
        "    elif data['MACD'] < data['MACD_Signal']:\n",
        "        signals.append(\"MACD 形成死亡交叉\")\n",
        "\n",
        "    # KD 分析\n",
        "    if data['K值'] < 20 and data['D值'] < 20:\n",
        "        signals.append(\"KD 指標處於超賣區\")\n",
        "    elif data['K值'] > 80 and data['D值'] > 80:\n",
        "        signals.append(\"KD 指標處於超買區\")\n",
        "\n",
        "    # 均線分析\n",
        "    if data['SMA_20'] > data['SMA_60']:\n",
        "        signals.append(\"20日均線突破60日均線\")\n",
        "    elif data['SMA_20'] < data['SMA_60']:\n",
        "        signals.append(\"20日均線跌破60日均線\")\n",
        "\n",
        "    return signals"
      ],
      "metadata": {
        "id": "VSEIh6AQICHH"
      },
      "execution_count": null,
      "outputs": []
    },
    {
      "cell_type": "code",
      "source": [
        "get_technical_analysis('2330.TW')"
      ],
      "metadata": {
        "colab": {
          "base_uri": "https://localhost:8080/"
        },
        "id": "rSdlsNK-SLVT",
        "outputId": "8a38988d-6f7a-4ae6-d899-9101968ee7b8"
      },
      "execution_count": null,
      "outputs": [
        {
          "output_type": "execute_result",
          "data": {
            "text/plain": [
              "{'indicators': {'RSI': 56.1,\n",
              "  'MACD': 14.54,\n",
              "  'MACD_Signal': 13.49,\n",
              "  'SMA_20': 1085.0,\n",
              "  'SMA_60': 1057.08,\n",
              "  'K值': 50.29,\n",
              "  'D值': 62.98,\n",
              "  '收盤價': 1100.0},\n",
              " 'signals': ['MACD 形成黃金交叉', '20日均線突破60日均線'],\n",
              " 'historical_data': [{'Open': 1100.0,\n",
              "   'High': 1125.0,\n",
              "   'Low': 1095.0,\n",
              "   'Close': 1125.0,\n",
              "   'Volume': 69289786,\n",
              "   'Dividends': 0.0,\n",
              "   'Stock Splits': 0.0,\n",
              "   'RSI': 64.3740713118774,\n",
              "   'MACD_12_26_9': 12.704426740210693,\n",
              "   'MACDh_12_26_9': 1.5452761611420396,\n",
              "   'MACDs_12_26_9': 11.159150579068653,\n",
              "   'SMA_20': 1074.8904296875,\n",
              "   'SMA_60': 1052.9775329589843,\n",
              "   'STOCHk_14_3_3': 72.22222222222223,\n",
              "   'STOCHd_14_3_3': 67.5925925925926},\n",
              "  {'Open': 1150.0,\n",
              "   'High': 1160.0,\n",
              "   'Low': 1130.0,\n",
              "   'Close': 1130.0,\n",
              "   'Volume': 48758688,\n",
              "   'Dividends': 0.0,\n",
              "   'Stock Splits': 0.0,\n",
              "   'RSI': 65.26270143723433,\n",
              "   'MACD_12_26_9': 15.568774775829525,\n",
              "   'MACDh_12_26_9': 3.5276993574086966,\n",
              "   'MACDs_12_26_9': 12.041075418420828,\n",
              "   'SMA_20': 1077.846173095703,\n",
              "   'SMA_60': 1054.4608662923176,\n",
              "   'STOCHk_14_3_3': 80.8888888888889,\n",
              "   'STOCHd_14_3_3': 71.4074074074074},\n",
              "  {'Open': 1110.0,\n",
              "   'High': 1130.0,\n",
              "   'Low': 1105.0,\n",
              "   'Close': 1105.0,\n",
              "   'Volume': 45211419,\n",
              "   'Dividends': 0.0,\n",
              "   'Stock Splits': 0.0,\n",
              "   'RSI': 57.53513634162316,\n",
              "   'MACD_12_26_9': 15.641198168113988,\n",
              "   'MACDh_12_26_9': 2.880098199754528,\n",
              "   'MACDs_12_26_9': 12.76109996835946,\n",
              "   'SMA_20': 1080.05,\n",
              "   'SMA_60': 1055.5275329589845,\n",
              "   'STOCHk_14_3_3': 77.33333333333333,\n",
              "   'STOCHd_14_3_3': 76.81481481481482},\n",
              "  {'Open': 1100.0,\n",
              "   'High': 1115.0,\n",
              "   'Low': 1100.0,\n",
              "   'Close': 1100.0,\n",
              "   'Volume': 27263215,\n",
              "   'Dividends': 0.0,\n",
              "   'Stock Splits': 0.0,\n",
              "   'RSI': 56.10430484970076,\n",
              "   'MACD_12_26_9': 15.120832470694495,\n",
              "   'MACDh_12_26_9': 1.887786001868026,\n",
              "   'MACDs_12_26_9': 13.233046468826469,\n",
              "   'SMA_20': 1083.0,\n",
              "   'SMA_60': 1056.0957946777344,\n",
              "   'STOCHk_14_3_3': 61.333333333333336,\n",
              "   'STOCHd_14_3_3': 73.18518518518519},\n",
              "  {'Open': 1100.0,\n",
              "   'High': 1110.0,\n",
              "   'Low': 1100.0,\n",
              "   'Close': 1100.0,\n",
              "   'Volume': 22021522,\n",
              "   'Dividends': 0.0,\n",
              "   'Stock Splits': 0.0,\n",
              "   'RSI': 56.10430484970075,\n",
              "   'MACD_12_26_9': 14.54082136906186,\n",
              "   'MACDh_12_26_9': 1.0462199201883102,\n",
              "   'MACDs_12_26_9': 13.49460144887355,\n",
              "   'SMA_20': 1085.0,\n",
              "   'SMA_60': 1057.0791280110677,\n",
              "   'STOCHk_14_3_3': 50.285714285714285,\n",
              "   'STOCHd_14_3_3': 62.98412698412699}]}"
            ]
          },
          "metadata": {},
          "execution_count": 38
        }
      ]
    },
    {
      "cell_type": "code",
      "source": [
        "# 總管理 Agent 的指令\n",
        "general_agent = Agent(\n",
        "    name=\"總管理Agent\",\n",
        "    instructions=\"\"\"你是股票市場查詢的總管理者。\n",
        "    根據使用者的問題類型，將請求轉發給適當的專家：\n",
        "    - 股價相關問題 -> 股價查詢專家\n",
        "    - 財務數據相關問題 -> 財務分析專家\n",
        "    - 技術指標相關問題 -> 技術分析專家\n",
        "    如果使用者想要完整分析，可以依序調用多個專家的服務。\"\"\",\n",
        "    functions=[get_stock_info, get_financial_data, get_technical_analysis]\n",
        ")\n",
        "\n",
        "# 股價查詢專家 Agent\n",
        "price_agent = Agent(\n",
        "    name=\"股價查詢專家\",\n",
        "    instructions=\"\"\"你是專門處理股價查詢的專家。\n",
        "    使用 get_stock_info 和 get_stock_price_history 函數來回答：\n",
        "    - 即時股價\n",
        "    - 歷史走勢\n",
        "    - 52週高低點等資訊\n",
        "    請用專業且易懂的方式解釋數據。\"\"\",\n",
        "    functions=[get_stock_info, get_stock_price_history]\n",
        ")\n",
        "\n",
        "# 創建財務分析專家 Agent\n",
        "financial_agent = Agent(\n",
        "    name=\"財務分析專家\",\n",
        "    instructions=\"\"\"你是專門分析財務數據的專家。\n",
        "    使用 get_financial_data 函數來分析：\n",
        "    - 基本財務指標\n",
        "    - 獲利能力\n",
        "    - 財務結構\n",
        "    提供專業的財務分析建議。\"\"\",\n",
        "    functions=[get_financial_data]\n",
        ")\n",
        "\n",
        "# 技術分析專家 Agent\n",
        "technical_agent = Agent(\n",
        "    name=\"技術分析專家\",\n",
        "    instructions=\"\"\"你是專門進行技術分析的專家。\n",
        "    使用 get_technical_analysis 函數來分析：\n",
        "    - RSI、MACD、KD等技術指標\n",
        "    - 移動平均線\n",
        "    - 產生交易信號\n",
        "    請用專業且易懂的方式解釋技術分析結果，並提供可能的交易建議。\n",
        "    記得提醒使用者技術分析僅供參考，需要綜合其他因素做決定。\"\"\",\n",
        "    functions=[get_technical_analysis]\n",
        ")\n",
        "\n",
        "# 創建 Swarm client\n",
        "client = Swarm()\n",
        "\n"
      ],
      "metadata": {
        "id": "FoyhWXcwIEk9"
      },
      "execution_count": null,
      "outputs": []
    },
    {
      "cell_type": "code",
      "source": [
        "print(\"歡迎使用股票市場助手！\")\n",
        "print(\"您可以詢問：\")\n",
        "print(\"1. 股票即時報價與走勢\")\n",
        "print(\"2. 基本財務分析\")\n",
        "print(\"3. 基本技術分析\")\n",
        "print(\"請輸入股票代號（例如：2330.TW）和您的問題。\")\n",
        "\n",
        "context_variables = {}\n",
        "current_agent = general_agent\n",
        "\n",
        "while True:\n",
        "    user_input = input(\"\\n您的問題: \")\n",
        "    if user_input.lower() in ['exit', 'quit', 'bye']:\n",
        "        print(\"謝謝使用，再見！\")\n",
        "        break\n",
        "\n",
        "    response = client.run(\n",
        "        agent=current_agent,\n",
        "        messages=[{\"role\": \"user\", \"content\": user_input}],\n",
        "        context_variables=context_variables\n",
        "    )\n",
        "\n",
        "    print(f\"\\n{response.agent.name}:\", response.messages[-1][\"content\"])\n",
        "    current_agent = response.agent\n",
        "    context_variables = response.context_variables\n"
      ],
      "metadata": {
        "colab": {
          "base_uri": "https://localhost:8080/",
          "height": 1000
        },
        "collapsed": true,
        "id": "OBPznZIyIOR5",
        "outputId": "7fcf19b4-0878-4a1b-c860-f1cd01033085"
      },
      "execution_count": null,
      "outputs": [
        {
          "output_type": "stream",
          "name": "stdout",
          "text": [
            "歡迎使用股票市場助手！\n",
            "您可以詢問：\n",
            "1. 股票即時報價與走勢\n",
            "2. 基本財務分析\n",
            "3. 基本技術分析\n",
            "請輸入股票代號（例如：2330.TW）和您的問題。\n",
            "\n",
            "您的問題: 請問2330.TW 最新股價\n",
            "\n",
            "總管理Agent: 2330.TW（台積電）的最新股價是 1100 元。\n",
            "\n",
            "您的問題: 請提供2330.TW目前股價和本益比\n",
            "\n",
            "總管理Agent: 2330.TW (Taiwan Semiconductor Manufacturing Company Limited) 的目前股價為 1100 元。根據最新的財務數據，其本益比為 27.17。\n",
            "\n",
            "您的問題: 請分析2330.TW和2308.TW的技術指標，從技術面來看，目前哪一個股票的進場時機更好？\n",
            "\n",
            "總管理Agent: 根據技術指標分析：\n",
            "\n",
            "**2330.TW**\n",
            "- RSI：56.1，表示相對強弱指數在中性偏強的區域。\n",
            "- MACD：14.54，MACD形成黃金交叉，表示短期內價格可能上漲。\n",
            "- 20日均線突破60日均線，呈現上漲動能。\n",
            "\n",
            "**2308.TW**\n",
            "- RSI：51.97，位於中立區域。\n",
            "- MACD：4.74，MACD形成死亡交叉，表示短期可能下降。\n",
            "- 20日均線突破60日均線，意味著短期內價格正在試圖上漲，但目前動能不足。\n",
            "\n",
            "總結來說，2330.TW 在 MACD 黃金交叉及重要均線突破方面的表現更強勢，技術面上進場時機相對較好。相比之下，2308.TW 的技術指標顯示較弱的動能。\n",
            "\n",
            "您的問題: 如果現在要在2330.TW和2308.TW選一個買進，建議是？\n",
            "\n",
            "總管理Agent: 根據獲取的資料，我將為2330.TW（台積電）和2308.TW（台達電）進行比較分析：\n",
            "\n",
            "### 2330.TW 台積電\n",
            "- **股價**：現價 1100.0\n",
            "- **財務數據**：\n",
            "  - 營收：2,161,735,800,000\n",
            "  - 淨利：851,740,000,000\n",
            "  - 總資產：5,532,196,600,000\n",
            "  - 總負債：2,078,330,100,000\n",
            "  - ROE：28.03%\n",
            "  - 本益比：27.17\n",
            "- **技術分析**：\n",
            "  - MACD 黃金交叉\n",
            "  - 20日均線突破60日均線\n",
            "  - RSI：56.1\n",
            "  - K值：50.29，D值：62.98\n",
            "\n",
            "### 2308.TW 台達電\n",
            "- **股價**：現價 420.0\n",
            "- **財務數據**：\n",
            "  - 營收：401,226,501,000\n",
            "  - 淨利：33,392,665,000\n",
            "  - 總資產：457,746,578,000\n",
            "  - 總負債：215,011,085,000\n",
            "  - ROE：17.09%\n",
            "  - 本益比：29.58\n",
            "- **技術分析**：\n",
            "  - MACD 死亡交叉\n",
            "  - 20日均線突破60日均線\n",
            "  - RSI：51.97\n",
            "  - K值：34.39，D值：48.46\n",
            "\n",
            "### 分析建議\n",
            "從以上分析可以看到：\n",
            "1. **財務數據**：台積電的ROE和本益比較低，顯示出更好的獲利狀況和估值。\n",
            "2. **技術分析**：台積電的技術指標較為正向（MACD 黃金交叉），顯示短期上升趨勢。而台達電的MACD是死亡交叉，短期可能存在下跌風險。\n",
            "3. **總結**：若考慮技術面與基本面，台積電（2330.TW）可能就短期內的買入機會較為優勢。不過，投資需考慮自身風險偏好與投資目標。\n",
            "\n",
            "建議您依據個人的投資策略及風險容忍度做出最適合的決定。\n"
          ]
        },
        {
          "output_type": "error",
          "ename": "KeyboardInterrupt",
          "evalue": "Interrupted by user",
          "traceback": [
            "\u001b[0;31m---------------------------------------------------------------------------\u001b[0m",
            "\u001b[0;31mKeyboardInterrupt\u001b[0m                         Traceback (most recent call last)",
            "\u001b[0;32m<ipython-input-42-0e81ab44782f>\u001b[0m in \u001b[0;36m<cell line: 11>\u001b[0;34m()\u001b[0m\n\u001b[1;32m     10\u001b[0m \u001b[0;34m\u001b[0m\u001b[0m\n\u001b[1;32m     11\u001b[0m \u001b[0;32mwhile\u001b[0m \u001b[0;32mTrue\u001b[0m\u001b[0;34m:\u001b[0m\u001b[0;34m\u001b[0m\u001b[0;34m\u001b[0m\u001b[0m\n\u001b[0;32m---> 12\u001b[0;31m     \u001b[0muser_input\u001b[0m \u001b[0;34m=\u001b[0m \u001b[0minput\u001b[0m\u001b[0;34m(\u001b[0m\u001b[0;34m\"\\n您的問題: \"\u001b[0m\u001b[0;34m)\u001b[0m\u001b[0;34m\u001b[0m\u001b[0;34m\u001b[0m\u001b[0m\n\u001b[0m\u001b[1;32m     13\u001b[0m     \u001b[0;32mif\u001b[0m \u001b[0muser_input\u001b[0m\u001b[0;34m.\u001b[0m\u001b[0mlower\u001b[0m\u001b[0;34m(\u001b[0m\u001b[0;34m)\u001b[0m \u001b[0;32min\u001b[0m \u001b[0;34m[\u001b[0m\u001b[0;34m'exit'\u001b[0m\u001b[0;34m,\u001b[0m \u001b[0;34m'quit'\u001b[0m\u001b[0;34m,\u001b[0m \u001b[0;34m'bye'\u001b[0m\u001b[0;34m]\u001b[0m\u001b[0;34m:\u001b[0m\u001b[0;34m\u001b[0m\u001b[0;34m\u001b[0m\u001b[0m\n\u001b[1;32m     14\u001b[0m         \u001b[0mprint\u001b[0m\u001b[0;34m(\u001b[0m\u001b[0;34m\"謝謝使用，再見！\"\u001b[0m\u001b[0;34m)\u001b[0m\u001b[0;34m\u001b[0m\u001b[0;34m\u001b[0m\u001b[0m\n",
            "\u001b[0;32m/usr/local/lib/python3.10/dist-packages/ipykernel/kernelbase.py\u001b[0m in \u001b[0;36mraw_input\u001b[0;34m(self, prompt)\u001b[0m\n\u001b[1;32m    849\u001b[0m                 \u001b[0;34m\"raw_input was called, but this frontend does not support input requests.\"\u001b[0m\u001b[0;34m\u001b[0m\u001b[0;34m\u001b[0m\u001b[0m\n\u001b[1;32m    850\u001b[0m             )\n\u001b[0;32m--> 851\u001b[0;31m         return self._input_request(str(prompt),\n\u001b[0m\u001b[1;32m    852\u001b[0m             \u001b[0mself\u001b[0m\u001b[0;34m.\u001b[0m\u001b[0m_parent_ident\u001b[0m\u001b[0;34m,\u001b[0m\u001b[0;34m\u001b[0m\u001b[0;34m\u001b[0m\u001b[0m\n\u001b[1;32m    853\u001b[0m             \u001b[0mself\u001b[0m\u001b[0;34m.\u001b[0m\u001b[0m_parent_header\u001b[0m\u001b[0;34m,\u001b[0m\u001b[0;34m\u001b[0m\u001b[0;34m\u001b[0m\u001b[0m\n",
            "\u001b[0;32m/usr/local/lib/python3.10/dist-packages/ipykernel/kernelbase.py\u001b[0m in \u001b[0;36m_input_request\u001b[0;34m(self, prompt, ident, parent, password)\u001b[0m\n\u001b[1;32m    893\u001b[0m             \u001b[0;32mexcept\u001b[0m \u001b[0mKeyboardInterrupt\u001b[0m\u001b[0;34m:\u001b[0m\u001b[0;34m\u001b[0m\u001b[0;34m\u001b[0m\u001b[0m\n\u001b[1;32m    894\u001b[0m                 \u001b[0;31m# re-raise KeyboardInterrupt, to truncate traceback\u001b[0m\u001b[0;34m\u001b[0m\u001b[0;34m\u001b[0m\u001b[0m\n\u001b[0;32m--> 895\u001b[0;31m                 \u001b[0;32mraise\u001b[0m \u001b[0mKeyboardInterrupt\u001b[0m\u001b[0;34m(\u001b[0m\u001b[0;34m\"Interrupted by user\"\u001b[0m\u001b[0;34m)\u001b[0m \u001b[0;32mfrom\u001b[0m \u001b[0;32mNone\u001b[0m\u001b[0;34m\u001b[0m\u001b[0;34m\u001b[0m\u001b[0m\n\u001b[0m\u001b[1;32m    896\u001b[0m             \u001b[0;32mexcept\u001b[0m \u001b[0mException\u001b[0m \u001b[0;32mas\u001b[0m \u001b[0me\u001b[0m\u001b[0;34m:\u001b[0m\u001b[0;34m\u001b[0m\u001b[0;34m\u001b[0m\u001b[0m\n\u001b[1;32m    897\u001b[0m                 \u001b[0mself\u001b[0m\u001b[0;34m.\u001b[0m\u001b[0mlog\u001b[0m\u001b[0;34m.\u001b[0m\u001b[0mwarning\u001b[0m\u001b[0;34m(\u001b[0m\u001b[0;34m\"Invalid Message:\"\u001b[0m\u001b[0;34m,\u001b[0m \u001b[0mexc_info\u001b[0m\u001b[0;34m=\u001b[0m\u001b[0;32mTrue\u001b[0m\u001b[0;34m)\u001b[0m\u001b[0;34m\u001b[0m\u001b[0;34m\u001b[0m\u001b[0m\n",
            "\u001b[0;31mKeyboardInterrupt\u001b[0m: Interrupted by user"
          ]
        }
      ]
    },
    {
      "cell_type": "code",
      "source": [],
      "metadata": {
        "id": "SogSgoyoIr9T"
      },
      "execution_count": null,
      "outputs": []
    }
  ]
}